{
 "cells": [
  {
   "cell_type": "code",
   "execution_count": 19,
   "id": "3f60dde6",
   "metadata": {},
   "outputs": [],
   "source": [
    "import pyspark\n",
    "from pyspark.sql import SparkSession\n",
    "import warnings\n",
    "from pyspark.sql.types import StructField, StructType, IntegerType, DateType, StringType, TimestampType, DoubleType, LongType\n",
    "import pyspark.sql.functions as F\n",
    "warnings.filterwarnings(\"ignore\")"
   ]
  },
  {
   "cell_type": "code",
   "execution_count": 5,
   "id": "10128774",
   "metadata": {},
   "outputs": [
    {
     "data": {
      "text/plain": [
       "'3.3.2'"
      ]
     },
     "execution_count": 5,
     "metadata": {},
     "output_type": "execute_result"
    }
   ],
   "source": [
    "spark = SparkSession.builder.master(\"local[*]\").appName(\"intro\").getOrCreate()\n",
    "spark.version"
   ]
  },
  {
   "cell_type": "code",
   "execution_count": 8,
   "id": "e28ac4b6",
   "metadata": {},
   "outputs": [
    {
     "name": "stderr",
     "output_type": "stream",
     "text": [
      "[Stage 2:=======================================>                   (2 + 1) / 3]\r"
     ]
    },
    {
     "name": "stdout",
     "output_type": "stream",
     "text": [
      "+-----------------+--------------------+--------------------+-------------------+-------------------+-------------------+-------------------+------------+------------+----------+---------+-------------------+-----+----+---------+--------------------+-----------+----+----------+-------------------+-----------------+------------------+----------------+--------------+\n",
      "|hvfhs_license_num|dispatching_base_num|originating_base_num|   request_datetime|  on_scene_datetime|    pickup_datetime|   dropoff_datetime|PULocationID|DOLocationID|trip_miles|trip_time|base_passenger_fare|tolls| bcf|sales_tax|congestion_surcharge|airport_fee|tips|driver_pay|shared_request_flag|shared_match_flag|access_a_ride_flag|wav_request_flag|wav_match_flag|\n",
      "+-----------------+--------------------+--------------------+-------------------+-------------------+-------------------+-------------------+------------+------------+----------+---------+-------------------+-----+----+---------+--------------------+-----------+----+----------+-------------------+-----------------+------------------+----------------+--------------+\n",
      "|           HV0003|              B02764|              B02764|2021-05-31 23:53:49|2021-06-01 00:02:23|2021-06-01 00:02:41|2021-06-01 00:07:46|         174|          18|       1.0|      305|               8.13|  0.0|0.24|     0.72|                 0.0|        0.0| 0.0|      7.03|                  N|                N|                  |               N|             N|\n",
      "|           HV0003|              B02764|              B02764|2021-06-01 00:08:40|2021-06-01 00:15:20|2021-06-01 00:16:16|2021-06-01 00:21:14|          32|         254|      1.39|      298|               9.49|  0.0|0.28|     0.84|                 0.0|        0.0| 0.0|      9.03|                  N|                N|                  |               N|             N|\n",
      "|           HV0003|              B02764|              B02764|2021-06-01 00:15:26|2021-06-01 00:24:48|2021-06-01 00:27:01|2021-06-01 00:42:11|         240|         127|      5.51|      910|              19.61|  0.0|0.59|     1.74|                 0.0|        0.0| 0.0|     15.34|                  N|                N|                  |               N|             N|\n",
      "|           HV0003|              B02764|              B02764|2021-06-01 00:22:29|2021-06-01 00:44:48|2021-06-01 00:46:08|2021-06-01 00:53:45|         127|         235|       1.5|      457|                8.5|  0.0|0.26|     0.75|                 0.0|        0.0| 1.0|      9.13|                  N|                N|                  |               N|             N|\n",
      "|           HV0005|              B02510|                null|2021-06-01 00:42:14|               null|2021-06-01 00:45:42|2021-06-01 01:03:33|         144|         146|     5.072|     1071|              30.35| 0.23|0.92|     2.71|                2.75|        0.0| 0.0|     18.21|                  N|                N|                 N|               N|             N|\n",
      "+-----------------+--------------------+--------------------+-------------------+-------------------+-------------------+-------------------+------------+------------+----------+---------+-------------------+-----+----+---------+--------------------+-----------+----+----------+-------------------+-----------------+------------------+----------------+--------------+\n",
      "only showing top 5 rows\n",
      "\n"
     ]
    },
    {
     "name": "stderr",
     "output_type": "stream",
     "text": [
      "\r",
      "                                                                                \r"
     ]
    }
   ],
   "source": [
    "df = spark.read.option(\"header\", \"true\").parquet(\"./data/fhvhv_tripdata_2021-06.parquet\", inferschema = True)\n",
    "df.show(5)"
   ]
  },
  {
   "cell_type": "code",
   "execution_count": 14,
   "id": "a29d4988",
   "metadata": {},
   "outputs": [],
   "source": [
    "schema = StructType(\n",
    "    [StructField('hvfhs_license_num', StringType(), True),\n",
    "     StructField('dispatching_base_num', StringType(), True),\n",
    "     StructField('originating_base_num', StringType(), True),\n",
    "     StructField('request_datetime', TimestampType(), True),\n",
    "     StructField('on_scene_datetime', TimestampType(), True),\n",
    "     StructField('pickup_datetime', TimestampType(), True),\n",
    "     StructField('dropoff_datetime', TimestampType(), True),\n",
    "     StructField('PULocationID', LongType(), True),\n",
    "     StructField('DOLocationID', LongType(), True),\n",
    "     StructField('trip_miles', DoubleType(), True),\n",
    "     StructField('trip_time', LongType(), True),\n",
    "     StructField('base_passenger_fare', DoubleType(), True),\n",
    "     StructField('tolls', DoubleType(), True),\n",
    "     StructField('bcf', DoubleType(), True),\n",
    "     StructField('sales_tax', DoubleType(), True),\n",
    "     StructField('congestion_surcharge', DoubleType(), True),\n",
    "     StructField('airport_fee', DoubleType(), True),\n",
    "     StructField('tips', DoubleType(), True),\n",
    "     StructField('driver_pay', DoubleType(), True),\n",
    "     StructField('shared_request_flag', StringType(), True),\n",
    "     StructField('shared_match_flag', StringType(), True),\n",
    "     StructField('access_a_ride_flag', StringType(), True),\n",
    "     StructField('wav_request_flag', StringType(), True),\n",
    "     StructField('wav_match_flag', StringType(), True)]\n",
    ")"
   ]
  },
  {
   "cell_type": "code",
   "execution_count": 15,
   "id": "1bebfdc0",
   "metadata": {},
   "outputs": [
    {
     "name": "stderr",
     "output_type": "stream",
     "text": [
      "                                                                                \r"
     ]
    }
   ],
   "source": [
    "# repartition into 12 partition.\n",
    "df.repartition(12).write.parquet(\"./data/fhvhv_tripdata_partitioned_2021-06.parquet\")"
   ]
  },
  {
   "cell_type": "code",
   "execution_count": 18,
   "id": "eb6f1f2b",
   "metadata": {},
   "outputs": [
    {
     "name": "stdout",
     "output_type": "stream",
     "text": [
      "root\n",
      " |-- hvfhs_license_num: string (nullable = true)\n",
      " |-- dispatching_base_num: string (nullable = true)\n",
      " |-- originating_base_num: string (nullable = true)\n",
      " |-- request_datetime: timestamp (nullable = true)\n",
      " |-- on_scene_datetime: timestamp (nullable = true)\n",
      " |-- pickup_datetime: timestamp (nullable = true)\n",
      " |-- dropoff_datetime: timestamp (nullable = true)\n",
      " |-- PULocationID: long (nullable = true)\n",
      " |-- DOLocationID: long (nullable = true)\n",
      " |-- trip_miles: double (nullable = true)\n",
      " |-- trip_time: long (nullable = true)\n",
      " |-- base_passenger_fare: double (nullable = true)\n",
      " |-- tolls: double (nullable = true)\n",
      " |-- bcf: double (nullable = true)\n",
      " |-- sales_tax: double (nullable = true)\n",
      " |-- congestion_surcharge: double (nullable = true)\n",
      " |-- airport_fee: double (nullable = true)\n",
      " |-- tips: double (nullable = true)\n",
      " |-- driver_pay: double (nullable = true)\n",
      " |-- shared_request_flag: string (nullable = true)\n",
      " |-- shared_match_flag: string (nullable = true)\n",
      " |-- access_a_ride_flag: string (nullable = true)\n",
      " |-- wav_request_flag: string (nullable = true)\n",
      " |-- wav_match_flag: string (nullable = true)\n",
      "\n"
     ]
    }
   ],
   "source": [
    "df = spark.read.option(\"header\", \"true\").parquet(\"./data/fhvhv_tripdata_partitioned_2021-06.parquet\")\n",
    "df.printSchema()"
   ]
  },
  {
   "cell_type": "code",
   "execution_count": 29,
   "id": "61e8550c",
   "metadata": {},
   "outputs": [
    {
     "name": "stdout",
     "output_type": "stream",
     "text": [
      "+-----------------+-----------+------------+------------+------------+\n",
      "|hvfhs_license_num|pickup_date|dropoff_date|PULocationID|DOLocationID|\n",
      "+-----------------+-----------+------------+------------+------------+\n",
      "|           HV0003| 2021-06-27|  2021-06-27|         255|         186|\n",
      "|           HV0003| 2021-06-06|  2021-06-06|          95|         263|\n",
      "|           HV0003| 2021-06-13|  2021-06-13|          76|          76|\n",
      "|           HV0005| 2021-06-24|  2021-06-24|          76|          33|\n",
      "|           HV0005| 2021-06-10|  2021-06-10|         148|          49|\n",
      "+-----------------+-----------+------------+------------+------------+\n",
      "only showing top 5 rows\n",
      "\n"
     ]
    }
   ],
   "source": [
    "pre_df_1 = df.select(\"hvfhs_license_num\", \"pickup_datetime\", \"dropoff_datetime\",\n",
    "                     \"PULocationID\", \"DOLocationID\")\\\n",
    "             .withColumn(\"pickup_date\", F.to_date(df[\"pickup_datetime\"]))\\\n",
    "             .withColumn(\"dropoff_date\", F.to_date(df[\"dropoff_datetime\"]))\\\n",
    "             .select(\"hvfhs_license_num\", \"pickup_date\", \"dropoff_date\",\n",
    "                     \"PULocationID\", \"DOLocationID\")\n",
    "pre_df_1.show(5)"
   ]
  },
  {
   "cell_type": "code",
   "execution_count": 32,
   "id": "3dfd2530",
   "metadata": {},
   "outputs": [
    {
     "name": "stdout",
     "output_type": "stream",
     "text": [
      "+-----------------+-----------+------------+------------+------------+\n",
      "|hvfhs_license_num|pickup_date|dropoff_date|PULocationID|DOLocationID|\n",
      "+-----------------+-----------+------------+------------+------------+\n",
      "|           HV0003| 2021-06-15|  2021-06-15|           7|         229|\n",
      "|           HV0005| 2021-06-15|  2021-06-15|         142|          75|\n",
      "|           HV0003| 2021-06-15|  2021-06-15|          42|         244|\n",
      "|           HV0005| 2021-06-15|  2021-06-15|          35|         101|\n",
      "|           HV0003| 2021-06-15|  2021-06-15|         174|         169|\n",
      "+-----------------+-----------+------------+------------+------------+\n",
      "only showing top 5 rows\n",
      "\n"
     ]
    }
   ],
   "source": [
    "pre_df_1.filter(pre_df_1[\"pickup_date\"] == F.lit(\"2021-06-15\")).show(5)"
   ]
  },
  {
   "cell_type": "code",
   "execution_count": 33,
   "id": "4c54c5c2",
   "metadata": {},
   "outputs": [],
   "source": [
    "# udf: split location ids based on even/odd numbers.\n",
    "def even_odd(x):\n",
    "    if x % 2 == 0:\n",
    "        return \"even\"\n",
    "    else:\n",
    "        return \"odd\""
   ]
  },
  {
   "cell_type": "code",
   "execution_count": 35,
   "id": "0d329049",
   "metadata": {},
   "outputs": [
    {
     "name": "stderr",
     "output_type": "stream",
     "text": [
      "\r",
      "[Stage 12:>                                                         (0 + 1) / 1]\r"
     ]
    },
    {
     "name": "stdout",
     "output_type": "stream",
     "text": [
      "+-----------------+-----------+------------+------------+------------+-----------------+\n",
      "|hvfhs_license_num|pickup_date|dropoff_date|PULocationID|DOLocationID|PULocationID_Type|\n",
      "+-----------------+-----------+------------+------------+------------+-----------------+\n",
      "|           HV0003| 2021-06-27|  2021-06-27|         255|         186|              odd|\n",
      "|           HV0003| 2021-06-06|  2021-06-06|          95|         263|              odd|\n",
      "|           HV0003| 2021-06-13|  2021-06-13|          76|          76|             even|\n",
      "|           HV0005| 2021-06-24|  2021-06-24|          76|          33|             even|\n",
      "|           HV0005| 2021-06-10|  2021-06-10|         148|          49|             even|\n",
      "+-----------------+-----------+------------+------------+------------+-----------------+\n",
      "only showing top 5 rows\n",
      "\n"
     ]
    },
    {
     "name": "stderr",
     "output_type": "stream",
     "text": [
      "\r",
      "                                                                                \r"
     ]
    }
   ],
   "source": [
    "udf1 = F.udf(even_odd, returnType = StringType())\n",
    "pre_df_1.withColumn(\"PULocationID_Type\", udf1(df[\"PULocationID\"])).show(5)"
   ]
  },
  {
   "cell_type": "code",
   "execution_count": null,
   "id": "6ab6f116",
   "metadata": {},
   "outputs": [],
   "source": []
  }
 ],
 "metadata": {
  "kernelspec": {
   "display_name": "Python 3 (ipykernel)",
   "language": "python",
   "name": "python3"
  },
  "language_info": {
   "codemirror_mode": {
    "name": "ipython",
    "version": 3
   },
   "file_extension": ".py",
   "mimetype": "text/x-python",
   "name": "python",
   "nbconvert_exporter": "python",
   "pygments_lexer": "ipython3",
   "version": "3.9.13"
  }
 },
 "nbformat": 4,
 "nbformat_minor": 5
}
