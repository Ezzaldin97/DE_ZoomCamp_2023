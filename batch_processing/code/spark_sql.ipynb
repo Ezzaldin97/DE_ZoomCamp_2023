{
 "cells": [
  {
   "cell_type": "code",
   "execution_count": 2,
   "id": "754d1907",
   "metadata": {},
   "outputs": [],
   "source": [
    "import pyspark\n",
    "from pyspark.sql import SparkSession\n",
    "import warnings\n",
    "from pyspark.sql.types import StructField, StructType, IntegerType, DateType, StringType, TimestampType, DoubleType, LongType\n",
    "import pyspark.sql.functions as F\n",
    "warnings.filterwarnings(\"ignore\")"
   ]
  },
  {
   "cell_type": "code",
   "execution_count": 3,
   "id": "e1d08972",
   "metadata": {},
   "outputs": [
    {
     "name": "stderr",
     "output_type": "stream",
     "text": [
      "Setting default log level to \"WARN\".\n",
      "To adjust logging level use sc.setLogLevel(newLevel). For SparkR, use setLogLevel(newLevel).\n"
     ]
    },
    {
     "name": "stdout",
     "output_type": "stream",
     "text": [
      "23/03/04 11:37:55 WARN NativeCodeLoader: Unable to load native-hadoop library for your platform... using builtin-java classes where applicable\n"
     ]
    }
   ],
   "source": [
    "spark = SparkSession.builder.master(\"local[*]\").appName(\"intro\").getOrCreate()"
   ]
  },
  {
   "cell_type": "code",
   "execution_count": 4,
   "id": "7c52982d",
   "metadata": {},
   "outputs": [
    {
     "name": "stderr",
     "output_type": "stream",
     "text": [
      "                                                                                \r"
     ]
    },
    {
     "name": "stdout",
     "output_type": "stream",
     "text": [
      "+--------+--------------------+---------------------+------------------+----------+------------+------------+---------------+-------------+-----------+-----+-------+----------+------------+---------+---------------------+------------+------------+---------+--------------------+\n",
      "|VendorID|lpep_pickup_datetime|lpep_dropoff_datetime|store_and_fwd_flag|RatecodeID|PULocationID|DOLocationID|passenger_count|trip_distance|fare_amount|extra|mta_tax|tip_amount|tolls_amount|ehail_fee|improvement_surcharge|total_amount|payment_type|trip_type|congestion_surcharge|\n",
      "+--------+--------------------+---------------------+------------------+----------+------------+------------+---------------+-------------+-----------+-----+-------+----------+------------+---------+---------------------+------------+------------+---------+--------------------+\n",
      "|       2| 2020-01-12 10:42:30|  2020-01-12 11:00:17|                 N|      null|         127|         239|           null|          7.9|       24.5|  0.0|    0.5|      5.61|         0.0|     null|                  0.3|       33.66|        null|     null|                2.75|\n",
      "|       2| 2020-01-06 23:15:03|  2020-01-06 23:24:08|                 N|      null|          95|         135|           null|         2.06|        9.0|  0.5|    0.5|      2.06|         0.0|     null|                  0.3|       12.36|        null|     null|                 0.0|\n",
      "|       2| 2020-01-11 17:09:32|  2020-01-11 17:27:29|                 N|      null|         146|         260|           null|         2.54|       13.0|  0.0|    0.5|       0.0|         0.0|     null|                  0.3|        13.8|        null|     null|                 0.0|\n",
      "|       2| 2020-01-01 04:47:25|  2020-01-01 04:48:41|                 N|      null|          83|         260|           null|         0.13|        3.0|  0.5|    0.5|       0.0|         0.0|     null|                  0.3|         4.3|        null|     null|                 0.0|\n",
      "|       1| 2020-01-07 13:00:48|  2020-01-07 13:11:44|                 N|      null|         152|          74|           null|          1.2|        8.5|  0.0|    0.5|       0.0|         0.0|     null|                  0.3|         9.3|        null|     null|                 0.0|\n",
      "+--------+--------------------+---------------------+------------------+----------+------------+------------+---------------+-------------+-----------+-----+-------+----------+------------+---------+---------------------+------------+------------+---------+--------------------+\n",
      "only showing top 5 rows\n",
      "\n"
     ]
    }
   ],
   "source": [
    "df = spark.read.option(\"header\", \"true\").parquet(\"./data/stage/green_tripdata_2020-01_partitioned\")\n",
    "df.show(5)"
   ]
  },
  {
   "cell_type": "code",
   "execution_count": 11,
   "id": "73d1d6dc",
   "metadata": {},
   "outputs": [],
   "source": [
    "df = df.withColumn(\"lpep_pickup_date\", F.to_date(df[\"lpep_pickup_datetime\"]))\\\n",
    "       .withColumn(\"lpep_dropoff_date\", F.to_date(df[\"lpep_dropoff_datetime\"]))"
   ]
  },
  {
   "cell_type": "code",
   "execution_count": 15,
   "id": "96057663",
   "metadata": {},
   "outputs": [
    {
     "data": {
      "text/plain": [
       "10970"
      ]
     },
     "execution_count": 15,
     "metadata": {},
     "output_type": "execute_result"
    }
   ],
   "source": [
    "df.filter(df[\"lpep_pickup_date\"] == F.lit(\"2020-01-01\")).count()"
   ]
  },
  {
   "cell_type": "code",
   "execution_count": 16,
   "id": "b9316f6c",
   "metadata": {},
   "outputs": [],
   "source": [
    "df.createOrReplaceTempView(\"green_data\")"
   ]
  },
  {
   "cell_type": "code",
   "execution_count": 20,
   "id": "0a6734f8",
   "metadata": {},
   "outputs": [
    {
     "name": "stdout",
     "output_type": "stream",
     "text": [
      "+-------+\n",
      "|n_trips|\n",
      "+-------+\n",
      "|  10970|\n",
      "+-------+\n",
      "\n"
     ]
    }
   ],
   "source": [
    "query = \"\"\"\n",
    "SELECT COUNT(*) AS n_trips FROM green_data WHERE lpep_pickup_date == DATE('2020-01-01');\n",
    "\"\"\"\n",
    "spark.sql(query).show()"
   ]
  },
  {
   "cell_type": "code",
   "execution_count": 26,
   "id": "2b575998",
   "metadata": {},
   "outputs": [
    {
     "name": "stderr",
     "output_type": "stream",
     "text": [
      "\r",
      "[Stage 26:>                                                         (0 + 4) / 4]\r"
     ]
    },
    {
     "name": "stdout",
     "output_type": "stream",
     "text": [
      "+------------+-------------------+--------------------+---------------------+-----------------------+--------------------------+----------------------------+-------------------------------------+----------------------------+------------------------------------+--------------------------+------------------------+\n",
      "|revenue_zone|      revenue_month|revenue_monthly_fare|revenue_monthly_extra|revenue_monthly_mta_tax|revenue_monthly_tip_amount|revenue_monthly_tolls_amount|revenue_monthly_improvement_surcharge|revenue_monthly_total_amount|revenue_monthly_congestion_surcharge|avg_montly_passenger_count|avg_montly_trip_distance|\n",
      "+------------+-------------------+--------------------+---------------------+-----------------------+--------------------------+----------------------------+-------------------------------------+----------------------------+------------------------------------+--------------------------+------------------------+\n",
      "|         190|2020-01-01 00:00:00|  3786.0200000000004|                175.0|                   76.5|                    242.16|                       24.48|                    62.70000000000006|           4419.360000000001|                               35.75|                      null|      3.5506912442396312|\n",
      "|         217|2020-01-01 00:00:00|   7338.409999999997|                423.5|                   98.5|                     82.83|                      137.88|                    91.20000000000013|           8200.169999999998|                               24.75|                      null|       4.819556213017752|\n",
      "|          79|2020-01-01 00:00:00|  1758.4099999999999|               118.25|                    5.5|                       0.0|                       67.32|                   17.399999999999995|                     1966.88|                                null|                      null|       6.290689655172414|\n",
      "|         163|2020-01-01 00:00:00|             1596.29|                86.25|                    4.0|                       0.0|          48.440000000000005|                   13.199999999999998|                     1748.18|                                 0.0|                      null|      10.031818181818183|\n",
      "|         196|2020-01-01 00:00:00|  55130.429999999906|               2233.0|                 1325.0|        1941.0699999999997|           811.5400000000002|                   1011.6000000000154|          62713.790000000125|                               258.5|                      null|       3.538930419781483|\n",
      "|          50|2020-01-01 00:00:00|             1774.06|               123.75|                    4.5|                       0.0|          45.120000000000005|                                 17.4|                     1964.83|                                 0.0|                      null|       7.711724137931034|\n",
      "|          63|2020-01-01 00:00:00|  13895.149999999998|                820.5|                  105.0|                      3.56|          420.74000000000007|                   135.30000000000013|          15380.250000000004|                                 0.0|                      null|        6.20907114624506|\n",
      "|         219|2020-01-01 00:00:00|  11565.159999999994|               514.75|                   65.5|                      10.0|           488.8800000000001|                    92.70000000000014|                    12738.94|                                 0.0|                      null|       8.950619469026549|\n",
      "|          87|2020-01-01 00:00:00|   6486.870000000001|               387.75|                   22.5|                       0.0|                      296.05|                    50.10000000000004|          7243.2699999999995|                                 0.0|                      null|       8.372035928143715|\n",
      "|         261|2020-01-01 00:00:00|             2033.88|               112.75|                    8.0|                       0.0|          143.79999999999998|                   16.499999999999996|          2314.9300000000003|                                 0.0|                      null|       8.850545454545454|\n",
      "|          46|2020-01-01 00:00:00|              2898.3|                131.5|                   17.0|                     12.12|                       153.0|                   21.299999999999994|          3233.2200000000003|                                 0.0|                      null|      11.816447368421054|\n",
      "|         101|2020-01-01 00:00:00|   8472.769999999999|                460.5|                   38.0|        15.219999999999999|          232.55999999999997|                    70.50000000000009|                     9289.55|                                2.75|                      null|       9.081153846153846|\n",
      "|         171|2020-01-01 00:00:00|  14490.990000000002|                781.5|                   71.0|                     48.98|           583.1700000000002|                   136.50000000000006|          16140.339999999997|                                16.5|                      null|       7.274491017964073|\n",
      "|         252|2020-01-01 00:00:00|   5875.359999999999|               305.75|                   32.0|                     37.92|                       367.2|                   62.100000000000065|           6680.330000000001|                                 0.0|                      null|       6.863824884792626|\n",
      "|         260|2020-01-01 00:00:00|   88645.79000000008|              3676.75|                 3632.0|         7702.619999999995|           801.2600000000002|                   2285.1000000000186|           107455.2199999978|                              742.25|                      null|        2.58409757363436|\n",
      "|          75|2020-01-01 00:00:00|   321730.6400000002|             18417.75|                13604.5|         35548.92000000008|           6714.789999999961|                    8501.399999999312|           430338.3000000265|                            30605.75|                      null|      2.5150529653634424|\n",
      "|          53|2020-01-01 00:00:00|   6281.649999999998|               330.25|                   49.0|                     39.22|                       102.5|                    68.40000000000008|                     6873.77|                                2.75|                      null|       6.929710743801653|\n",
      "|         235|2020-01-01 00:00:00|  29650.600000000006|               1995.5|                  259.5|                     65.47|           824.4600000000003|                    332.3999999999983|           33143.97999999998|                                11.0|                      null|       5.371730158730159|\n",
      "|          26|2020-01-01 00:00:00|  27098.789999999983|              1743.25|                  221.5|        121.73000000000002|           551.2800000000002|                   292.49999999999864|           30034.89999999999|                                 0.0|                      null|       4.771315789473684|\n",
      "|          18|2020-01-01 00:00:00|  23890.940000000006|               1332.0|                  215.5|        154.95999999999998|          1081.1000000000006|                   248.69999999999905|           26964.25000000003|                                16.5|                      null|       6.298100858369098|\n",
      "+------------+-------------------+--------------------+---------------------+-----------------------+--------------------------+----------------------------+-------------------------------------+----------------------------+------------------------------------+--------------------------+------------------------+\n",
      "only showing top 20 rows\n",
      "\n"
     ]
    },
    {
     "name": "stderr",
     "output_type": "stream",
     "text": [
      "\r",
      "                                                                                \r"
     ]
    }
   ],
   "source": [
    "df_result = spark.sql(\"\"\"\n",
    "SELECT \n",
    "    -- Reveneue grouping \n",
    "    PULocationID AS revenue_zone,\n",
    "    date_trunc('month', lpep_pickup_datetime) AS revenue_month,\n",
    "    -- Revenue calculation \n",
    "    SUM(fare_amount) AS revenue_monthly_fare,\n",
    "    SUM(extra) AS revenue_monthly_extra,\n",
    "    SUM(mta_tax) AS revenue_monthly_mta_tax,\n",
    "    SUM(tip_amount) AS revenue_monthly_tip_amount,\n",
    "    SUM(tolls_amount) AS revenue_monthly_tolls_amount,\n",
    "    SUM(improvement_surcharge) AS revenue_monthly_improvement_surcharge,\n",
    "    SUM(total_amount) AS revenue_monthly_total_amount,\n",
    "    SUM(congestion_surcharge) AS revenue_monthly_congestion_surcharge,\n",
    "    -- Additional calculations\n",
    "    AVG(passenger_count) AS avg_montly_passenger_count,\n",
    "    AVG(trip_distance) AS avg_montly_trip_distance\n",
    "FROM\n",
    "    green_data\n",
    "GROUP BY\n",
    "    1, 2\n",
    "\"\"\")\n",
    "df_result.show()"
   ]
  },
  {
   "cell_type": "code",
   "execution_count": 30,
   "id": "01b48a1d",
   "metadata": {},
   "outputs": [
    {
     "name": "stdout",
     "output_type": "stream",
     "text": [
      "+-------------------+-------+\n",
      "|         pickup_day|n_trips|\n",
      "+-------------------+-------+\n",
      "|2008-12-31 00:00:00|      1|\n",
      "|2009-01-01 00:00:00|     12|\n",
      "|2010-09-23 00:00:00|      3|\n",
      "|2019-12-18 00:00:00|      1|\n",
      "|2019-12-31 00:00:00|     18|\n",
      "|2020-01-01 00:00:00|  10970|\n",
      "|2020-01-02 00:00:00|  15023|\n",
      "|2020-01-03 00:00:00|  16062|\n",
      "|2020-01-04 00:00:00|  14295|\n",
      "|2020-01-05 00:00:00|  12732|\n",
      "|2020-01-06 00:00:00|  16323|\n",
      "|2020-01-07 00:00:00|  17027|\n",
      "|2020-01-08 00:00:00|  17586|\n",
      "|2020-01-09 00:00:00|  18491|\n",
      "|2020-01-10 00:00:00|  18307|\n",
      "|2020-01-11 00:00:00|  15175|\n",
      "|2020-01-12 00:00:00|  13442|\n",
      "|2020-01-13 00:00:00|  14288|\n",
      "|2020-01-14 00:00:00|  13977|\n",
      "|2020-01-15 00:00:00|  14157|\n",
      "+-------------------+-------+\n",
      "only showing top 20 rows\n",
      "\n"
     ]
    }
   ],
   "source": [
    "query = \"\"\"\n",
    "SELECT date_trunc('day', lpep_pickup_date) AS pickup_day,\n",
    "       COUNT(*) AS n_trips \n",
    "       FROM green_data\n",
    "       GROUP BY 1 ORDER BY 1 ASC;\n",
    "\"\"\"\n",
    "spark.sql(query).show()"
   ]
  },
  {
   "cell_type": "code",
   "execution_count": 32,
   "id": "14520c99",
   "metadata": {},
   "outputs": [
    {
     "name": "stdout",
     "output_type": "stream",
     "text": [
      "+----------+-------------+--------------------+------------+\n",
      "|LocationID|      Borough|                Zone|service_zone|\n",
      "+----------+-------------+--------------------+------------+\n",
      "|         1|          EWR|      Newark Airport|         EWR|\n",
      "|         2|       Queens|         Jamaica Bay|   Boro Zone|\n",
      "|         3|        Bronx|Allerton/Pelham G...|   Boro Zone|\n",
      "|         4|    Manhattan|       Alphabet City| Yellow Zone|\n",
      "|         5|Staten Island|       Arden Heights|   Boro Zone|\n",
      "+----------+-------------+--------------------+------------+\n",
      "only showing top 5 rows\n",
      "\n"
     ]
    }
   ],
   "source": [
    "location_lookup = spark.read.option(\"header\", \"true\").csv(\"/home/Ezz/week_5/data/taxi+_zone_lookup.csv\")\n",
    "location_lookup.show(5)"
   ]
  },
  {
   "cell_type": "code",
   "execution_count": 41,
   "id": "63cfb089",
   "metadata": {},
   "outputs": [
    {
     "data": {
      "text/plain": [
       "['PUZone', 'DOZone', 'trip_distance']"
      ]
     },
     "execution_count": 41,
     "metadata": {},
     "output_type": "execute_result"
    }
   ],
   "source": [
    "# join using spark...\n",
    "# because of zones lookup is very small then each executor takes a copy.\n",
    "temp_df = df.select(\"VendorID\", \"lpep_pickup_date\", \"lpep_dropoff_datetime\",\n",
    "                    \"PULocationID\", \"DOLocationID\", \"passenger_count\", \"total_amount\", \"trip_distance\")\n",
    "merged_df = temp_df.alias(\"base\").join(location_lookup.alias(\"a\"),\n",
    "                                       F.col(\"base.PULocationID\") == F.col(\"a.LocationID\"),\n",
    "                                       how = \"left\")\\\n",
    "                                 .join(location_lookup.alias(\"b\"),\n",
    "                                       F.col(\"base.DOLocationID\") == F.col(\"b.LocationID\"),\n",
    "                                       how = \"left\")\\\n",
    "                                 .select(F.col(\"a.Zone\").alias(\"PUZone\"), F.col(\"b.Zone\").alias(\"DOZone\"), \"trip_distance\")\n",
    "merged_df.columns"
   ]
  },
  {
   "cell_type": "code",
   "execution_count": 42,
   "id": "275f69fe",
   "metadata": {},
   "outputs": [
    {
     "name": "stdout",
     "output_type": "stream",
     "text": [
      "+--------------------+--------------------+-------------+\n",
      "|              PUZone|              DOZone|trip_distance|\n",
      "+--------------------+--------------------+-------------+\n",
      "|              Inwood|Upper West Side S...|          7.9|\n",
      "|        Forest Hills|   Kew Gardens Hills|         2.06|\n",
      "|Long Island City/...|            Woodside|         2.54|\n",
      "|    Elmhurst/Maspeth|            Woodside|         0.13|\n",
      "|      Manhattanville|   East Harlem North|          1.2|\n",
      "|Washington Height...|Central Harlem North|         1.77|\n",
      "|   East Harlem North|       Melrose South|         2.24|\n",
      "|    Brooklyn Heights|    Brooklyn Heights|         0.47|\n",
      "|    Brooklyn Heights|East Flatbush/Far...|         6.97|\n",
      "|        Clinton Hill|         Boerum Hill|         1.66|\n",
      "+--------------------+--------------------+-------------+\n",
      "only showing top 10 rows\n",
      "\n"
     ]
    }
   ],
   "source": [
    "merged_df.show(10)"
   ]
  },
  {
   "cell_type": "code",
   "execution_count": 43,
   "id": "66f50449",
   "metadata": {},
   "outputs": [],
   "source": [
    "# using spark sql\n",
    "location_lookup.createOrReplaceTempView(\"lookup\")\n",
    "merged_df = spark.sql(\"\"\"\n",
    "SELECT a.Zone AS PUZone,\n",
    "       b.Zone AS DOZone,\n",
    "       base.trip_distance\n",
    "FROM green_data AS base\n",
    "LEFT JOIN lookup AS a ON base.PULocationID = a.LocationID\n",
    "LEFT JOIN lookup AS b ON base.DOLocationID = b.LocationID\n",
    "\"\"\")"
   ]
  },
  {
   "cell_type": "code",
   "execution_count": 44,
   "id": "dbbea501",
   "metadata": {},
   "outputs": [
    {
     "name": "stdout",
     "output_type": "stream",
     "text": [
      "+--------------------+--------------------+-------------+\n",
      "|              PUZone|              DOZone|trip_distance|\n",
      "+--------------------+--------------------+-------------+\n",
      "|              Inwood|Upper West Side S...|          7.9|\n",
      "|        Forest Hills|   Kew Gardens Hills|         2.06|\n",
      "|Long Island City/...|            Woodside|         2.54|\n",
      "|    Elmhurst/Maspeth|            Woodside|         0.13|\n",
      "|      Manhattanville|   East Harlem North|          1.2|\n",
      "|Washington Height...|Central Harlem North|         1.77|\n",
      "|   East Harlem North|       Melrose South|         2.24|\n",
      "|    Brooklyn Heights|    Brooklyn Heights|         0.47|\n",
      "|    Brooklyn Heights|East Flatbush/Far...|         6.97|\n",
      "|        Clinton Hill|         Boerum Hill|         1.66|\n",
      "+--------------------+--------------------+-------------+\n",
      "only showing top 10 rows\n",
      "\n"
     ]
    }
   ],
   "source": [
    "merged_df.show(10)"
   ]
  },
  {
   "cell_type": "code",
   "execution_count": null,
   "id": "c294b8d7",
   "metadata": {},
   "outputs": [],
   "source": []
  }
 ],
 "metadata": {
  "kernelspec": {
   "display_name": "Python 3 (ipykernel)",
   "language": "python",
   "name": "python3"
  },
  "language_info": {
   "codemirror_mode": {
    "name": "ipython",
    "version": 3
   },
   "file_extension": ".py",
   "mimetype": "text/x-python",
   "name": "python",
   "nbconvert_exporter": "python",
   "pygments_lexer": "ipython3",
   "version": "3.9.13"
  }
 },
 "nbformat": 4,
 "nbformat_minor": 5
}
