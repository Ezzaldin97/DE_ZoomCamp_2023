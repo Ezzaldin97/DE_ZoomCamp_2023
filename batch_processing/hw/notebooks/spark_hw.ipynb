{
 "cells": [
  {
   "cell_type": "code",
   "execution_count": 1,
   "id": "c6c60648",
   "metadata": {},
   "outputs": [],
   "source": [
    "import pyspark\n",
    "from pyspark.sql import SparkSession\n",
    "import warnings\n",
    "from pyspark.sql.types import StructField, StructType, IntegerType, DateType, StringType, TimestampType, DoubleType, LongType\n",
    "import pyspark.sql.functions as F\n",
    "warnings.filterwarnings(\"ignore\")"
   ]
  },
  {
   "cell_type": "code",
   "execution_count": 2,
   "id": "7ca51e08",
   "metadata": {},
   "outputs": [
    {
     "name": "stderr",
     "output_type": "stream",
     "text": [
      "Setting default log level to \"WARN\".\n",
      "To adjust logging level use sc.setLogLevel(newLevel). For SparkR, use setLogLevel(newLevel).\n"
     ]
    },
    {
     "name": "stdout",
     "output_type": "stream",
     "text": [
      "23/03/04 20:40:36 WARN NativeCodeLoader: Unable to load native-hadoop library for your platform... using builtin-java classes where applicable\n"
     ]
    }
   ],
   "source": [
    "spark = SparkSession.builder.master(\"local[*]\")\\\n",
    "                    .appName(\"hw\").getOrCreate()"
   ]
  },
  {
   "cell_type": "code",
   "execution_count": 3,
   "id": "25e08905",
   "metadata": {},
   "outputs": [
    {
     "data": {
      "text/plain": [
       "'3.3.2'"
      ]
     },
     "execution_count": 3,
     "metadata": {},
     "output_type": "execute_result"
    }
   ],
   "source": [
    "## Q1\n",
    "spark.version"
   ]
  },
  {
   "cell_type": "code",
   "execution_count": null,
   "id": "db81402a",
   "metadata": {},
   "outputs": [],
   "source": [
    "schema = StructType(\n",
    "    [StructField('dispatching_base_num', StringType(), True),\n",
    "     StructField('pickup_datetime', TimestampType(), True),\n",
    "     StructField('dropoff_datetime', TimestampType(), True),\n",
    "     StructField('PULocationID', IntegerType(), True),\n",
    "     StructField('DOLocationID', IntegerType(), True),\n",
    "     StructField('SR_Flag', StringType(), True),\n",
    "     StructField('Affiliated_base_number', StringType(), True)]\n",
    ")"
   ]
  },
  {
   "cell_type": "code",
   "execution_count": 8,
   "id": "6dfa7156",
   "metadata": {},
   "outputs": [
    {
     "name": "stdout",
     "output_type": "stream",
     "text": [
      "+--------------------+-------------------+-------------------+------------+------------+-------+----------------------+\n",
      "|dispatching_base_num|    pickup_datetime|   dropoff_datetime|PULocationID|DOLocationID|SR_Flag|Affiliated_base_number|\n",
      "+--------------------+-------------------+-------------------+------------+------------+-------+----------------------+\n",
      "|              B02764|2021-06-01 00:02:41|2021-06-01 00:07:46|         174|          18|      N|                B02764|\n",
      "|              B02764|2021-06-01 00:16:16|2021-06-01 00:21:14|          32|         254|      N|                B02764|\n",
      "|              B02764|2021-06-01 00:27:01|2021-06-01 00:42:11|         240|         127|      N|                B02764|\n",
      "|              B02764|2021-06-01 00:46:08|2021-06-01 00:53:45|         127|         235|      N|                B02764|\n",
      "|              B02510|2021-06-01 00:45:42|2021-06-01 01:03:33|         144|         146|      N|                  null|\n",
      "+--------------------+-------------------+-------------------+------------+------------+-------+----------------------+\n",
      "only showing top 5 rows\n",
      "\n"
     ]
    }
   ],
   "source": [
    "df = spark.read.option(\"header\", \"true\").schema(schema).csv(\"/home/Ezz/week_5/data/fhvhv_tripdata_2021-06.csv\")\n",
    "df.show(5)"
   ]
  },
  {
   "cell_type": "code",
   "execution_count": 10,
   "id": "e9d43aee",
   "metadata": {},
   "outputs": [
    {
     "name": "stderr",
     "output_type": "stream",
     "text": [
      "                                                                                \r"
     ]
    }
   ],
   "source": [
    "## Q2\n",
    "df.repartition(12).write.parquet(\"/home/Ezz/week_5/data/fhvhv_tripdata_202106_partitioned\")"
   ]
  },
  {
   "cell_type": "code",
   "execution_count": 11,
   "id": "82cd0bbd",
   "metadata": {},
   "outputs": [
    {
     "name": "stdout",
     "output_type": "stream",
     "text": [
      "total 271M\r\n",
      "-rw-r--r-- 1 Ezz Ezz   0 Mar  4 20:49 _SUCCESS\r\n",
      "-rw-r--r-- 1 Ezz Ezz 23M Mar  4 20:49 part-00000-2cf5d23d-0848-4657-86a2-94814c46f7c1-c000.snappy.parquet\r\n",
      "-rw-r--r-- 1 Ezz Ezz 23M Mar  4 20:49 part-00001-2cf5d23d-0848-4657-86a2-94814c46f7c1-c000.snappy.parquet\r\n",
      "-rw-r--r-- 1 Ezz Ezz 23M Mar  4 20:49 part-00002-2cf5d23d-0848-4657-86a2-94814c46f7c1-c000.snappy.parquet\r\n",
      "-rw-r--r-- 1 Ezz Ezz 23M Mar  4 20:49 part-00003-2cf5d23d-0848-4657-86a2-94814c46f7c1-c000.snappy.parquet\r\n",
      "-rw-r--r-- 1 Ezz Ezz 23M Mar  4 20:49 part-00004-2cf5d23d-0848-4657-86a2-94814c46f7c1-c000.snappy.parquet\r\n",
      "-rw-r--r-- 1 Ezz Ezz 23M Mar  4 20:49 part-00005-2cf5d23d-0848-4657-86a2-94814c46f7c1-c000.snappy.parquet\r\n",
      "-rw-r--r-- 1 Ezz Ezz 23M Mar  4 20:49 part-00006-2cf5d23d-0848-4657-86a2-94814c46f7c1-c000.snappy.parquet\r\n",
      "-rw-r--r-- 1 Ezz Ezz 23M Mar  4 20:49 part-00007-2cf5d23d-0848-4657-86a2-94814c46f7c1-c000.snappy.parquet\r\n",
      "-rw-r--r-- 1 Ezz Ezz 23M Mar  4 20:49 part-00008-2cf5d23d-0848-4657-86a2-94814c46f7c1-c000.snappy.parquet\r\n",
      "-rw-r--r-- 1 Ezz Ezz 23M Mar  4 20:49 part-00009-2cf5d23d-0848-4657-86a2-94814c46f7c1-c000.snappy.parquet\r\n",
      "-rw-r--r-- 1 Ezz Ezz 23M Mar  4 20:49 part-00010-2cf5d23d-0848-4657-86a2-94814c46f7c1-c000.snappy.parquet\r\n",
      "-rw-r--r-- 1 Ezz Ezz 23M Mar  4 20:49 part-00011-2cf5d23d-0848-4657-86a2-94814c46f7c1-c000.snappy.parquet\r\n"
     ]
    }
   ],
   "source": [
    "!ls -lh /home/Ezz/week_5/data/fhvhv_tripdata_202106_partitioned"
   ]
  },
  {
   "cell_type": "code",
   "execution_count": 17,
   "id": "65d4b19e",
   "metadata": {},
   "outputs": [
    {
     "name": "stderr",
     "output_type": "stream",
     "text": [
      "                                                                                \r"
     ]
    },
    {
     "data": {
      "text/plain": [
       "452470"
      ]
     },
     "execution_count": 17,
     "metadata": {},
     "output_type": "execute_result"
    }
   ],
   "source": [
    "## Q3\n",
    "df = spark.read.option(\"header\", \"true\").parquet(\"/home/Ezz/week_5/data/fhvhv_tripdata_202106_partitioned\")\n",
    "df = df.withColumn(\"pickup_date\", F.to_date(df[\"pickup_datetime\"]))\\\n",
    "       .withColumn(\"dropoff_date\", F.to_date(df[\"dropoff_datetime\"]))\n",
    "df.filter(df[\"pickup_date\"] == F.lit(\"2021-06-15\")).count()"
   ]
  },
  {
   "cell_type": "code",
   "execution_count": 21,
   "id": "f9914619",
   "metadata": {},
   "outputs": [],
   "source": [
    "df.createOrReplaceTempView(\"data\")"
   ]
  },
  {
   "cell_type": "code",
   "execution_count": 23,
   "id": "3b7e912d",
   "metadata": {},
   "outputs": [
    {
     "name": "stdout",
     "output_type": "stream",
     "text": [
      "+--------------------+-------------------+-------------------+------------+------------+-------+----------------------+-----------+------------+-------------+\n",
      "|dispatching_base_num|    pickup_datetime|   dropoff_datetime|PULocationID|DOLocationID|SR_Flag|Affiliated_base_number|pickup_date|dropoff_date|DiffInSeconds|\n",
      "+--------------------+-------------------+-------------------+------------+------------+-------+----------------------+-----------+------------+-------------+\n",
      "|              B02617|2021-06-04 16:50:34|2021-06-04 17:01:18|         118|         109|      N|                B02617| 2021-06-04|  2021-06-04|          644|\n",
      "|              B02875|2021-06-02 22:28:45|2021-06-02 22:37:28|         163|          79|      N|                B02875| 2021-06-02|  2021-06-02|          523|\n",
      "|              B02871|2021-06-03 11:47:48|2021-06-03 11:52:23|         231|          13|      N|                B02871| 2021-06-03|  2021-06-03|          275|\n",
      "|              B02888|2021-06-03 08:45:25|2021-06-03 09:00:12|           9|          92|      N|                B02888| 2021-06-03|  2021-06-03|          887|\n",
      "|              B02510|2021-06-05 09:50:43|2021-06-05 10:06:53|          14|         133|      N|                  null| 2021-06-05|  2021-06-05|          970|\n",
      "+--------------------+-------------------+-------------------+------------+------------+-------+----------------------+-----------+------------+-------------+\n",
      "only showing top 5 rows\n",
      "\n"
     ]
    }
   ],
   "source": [
    "df = df.withColumn(\"DiffInSeconds\", df[\"dropoff_datetime\"].cast(\"long\") - df[\"pickup_datetime\"].cast(\"long\"))\n",
    "df.show(5)"
   ]
  },
  {
   "cell_type": "code",
   "execution_count": 26,
   "id": "d9d9c51f",
   "metadata": {},
   "outputs": [],
   "source": [
    "df = df.withColumn(\"DiffInHours\", df[\"diffInSeconds\"]/3600)"
   ]
  },
  {
   "cell_type": "code",
   "execution_count": 27,
   "id": "d5678fdb",
   "metadata": {},
   "outputs": [
    {
     "name": "stderr",
     "output_type": "stream",
     "text": [
      "\r",
      "[Stage 19:>                                                         (0 + 4) / 4]\r"
     ]
    },
    {
     "name": "stdout",
     "output_type": "stream",
     "text": [
      "+----------------+\n",
      "|     diffInHours|\n",
      "+----------------+\n",
      "|66.8788888888889|\n",
      "+----------------+\n",
      "only showing top 1 row\n",
      "\n"
     ]
    },
    {
     "name": "stderr",
     "output_type": "stream",
     "text": [
      "\r",
      "[Stage 19:==============>                                           (1 + 3) / 4]\r",
      "\r",
      "                                                                                \r"
     ]
    }
   ],
   "source": [
    "## Q4\n",
    "df.select(\"diffInHours\").orderBy(F.col(\"diffInHours\").desc()).show(1)"
   ]
  },
  {
   "cell_type": "code",
   "execution_count": 28,
   "id": "4e2c588e",
   "metadata": {},
   "outputs": [],
   "source": [
    "## Q5\n",
    "## 4040"
   ]
  },
  {
   "cell_type": "code",
   "execution_count": 29,
   "id": "a616b706",
   "metadata": {},
   "outputs": [
    {
     "name": "stdout",
     "output_type": "stream",
     "text": [
      "+----------+-------------+--------------------+------------+\n",
      "|LocationID|      Borough|                Zone|service_zone|\n",
      "+----------+-------------+--------------------+------------+\n",
      "|         1|          EWR|      Newark Airport|         EWR|\n",
      "|         2|       Queens|         Jamaica Bay|   Boro Zone|\n",
      "|         3|        Bronx|Allerton/Pelham G...|   Boro Zone|\n",
      "|         4|    Manhattan|       Alphabet City| Yellow Zone|\n",
      "|         5|Staten Island|       Arden Heights|   Boro Zone|\n",
      "+----------+-------------+--------------------+------------+\n",
      "only showing top 5 rows\n",
      "\n"
     ]
    }
   ],
   "source": [
    "location_lookup = spark.read.option(\"header\", \"true\").csv(\"/home/Ezz/week_5/data/taxi+_zone_lookup.csv\")\n",
    "location_lookup.show(5)"
   ]
  },
  {
   "cell_type": "code",
   "execution_count": 30,
   "id": "e1ef6a97",
   "metadata": {},
   "outputs": [],
   "source": [
    "location_lookup.createOrReplaceTempView(\"lookup\")"
   ]
  },
  {
   "cell_type": "code",
   "execution_count": 32,
   "id": "06b647b4",
   "metadata": {},
   "outputs": [
    {
     "name": "stderr",
     "output_type": "stream",
     "text": [
      "\r",
      "[Stage 23:>                                                         (0 + 4) / 4]\r"
     ]
    },
    {
     "name": "stdout",
     "output_type": "stream",
     "text": [
      "+-------------------+-------------------+\n",
      "|               Zone|count(PULocationID)|\n",
      "+-------------------+-------------------+\n",
      "|Crown Heights North|             231279|\n",
      "+-------------------+-------------------+\n",
      "only showing top 1 row\n",
      "\n"
     ]
    },
    {
     "name": "stderr",
     "output_type": "stream",
     "text": [
      "\r",
      "                                                                                \r"
     ]
    }
   ],
   "source": [
    "## Q6\n",
    "spark.sql(\"\"\"\n",
    "SELECT temp.Zone,COUNT(base.PULocationID)\n",
    "FROM data AS base\n",
    "LEFT JOIN lookup AS temp ON temp.LocationID = base.PULocationID\n",
    "GROUP BY 1\n",
    "ORDER BY 2 DESC\n",
    "\"\"\").show(1)"
   ]
  },
  {
   "cell_type": "code",
   "execution_count": null,
   "id": "097241d0",
   "metadata": {},
   "outputs": [],
   "source": []
  }
 ],
 "metadata": {
  "kernelspec": {
   "display_name": "Python 3 (ipykernel)",
   "language": "python",
   "name": "python3"
  },
  "language_info": {
   "codemirror_mode": {
    "name": "ipython",
    "version": 3
   },
   "file_extension": ".py",
   "mimetype": "text/x-python",
   "name": "python",
   "nbconvert_exporter": "python",
   "pygments_lexer": "ipython3",
   "version": "3.9.13"
  }
 },
 "nbformat": 4,
 "nbformat_minor": 5
}
